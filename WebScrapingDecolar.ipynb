{
 "cells": [
  {
   "cell_type": "markdown",
   "id": "c91fedf8-a714-479c-8b9d-967f86346cbd",
   "metadata": {},
   "source": [
    " # <center> Projeto Web Scraping : Extração de Dados de Passagens Aéreas </center>"
   ]
  },
  {
   "cell_type": "markdown",
   "id": "d3d75438-3518-41c9-9556-f4f53b558b06",
   "metadata": {},
   "source": [
    "# *Sumário*\n",
    "<font size=3>\n",
    "    <ul>\n",
    "       <li> O que é Web Scraping?</li>\n",
    "       <li> Sobre o projeto.</li>\n",
    "       <li> Importando as bibliotecas.</li>\n",
    "        <li>Utilizando o Selenium.</li> \n",
    "    </ul>\n",
    "</font>"
   ]
  },
  {
   "cell_type": "markdown",
   "id": "0fa27bfa-c9a1-4a25-aa39-b903a7361ffb",
   "metadata": {},
   "source": [
    "------------------------------------------------------------------"
   ]
  },
  {
   "cell_type": "markdown",
   "id": "f279b99f-e0f6-45e5-abe3-ea828dd9716b",
   "metadata": {},
   "source": [
    "### *O que é Web Scrapping?*\n",
    "\n",
    "<p><b>Web scraping</b> é uma coleta de dados da web, de sites, onde são usados scripts e programas para “raspar” informações destes sites e que poderão ser usadas para futuras análises. Por exemplo, comparar preços, monitorar o tempo, pesquisar o que está em alta no mercado, entre muitas outras coisas.</p>"
   ]
  },
  {
   "cell_type": "markdown",
   "id": "e4ac5cc1-2370-4a57-b321-ef74709e5c4b",
   "metadata": {},
   "source": [
    "------------------------------------------------------------------"
   ]
  },
  {
   "cell_type": "markdown",
   "id": "a31f0adf-dbfb-415a-94e2-60b111c9d6c5",
   "metadata": {},
   "source": [
    "### *Sobre o projeto:*\n",
    "\n",
    "<p>Recentemente venho procurado de forma exaustiva passagens aéreas para Buenos Aires(Argentina), afim de encontrar os melhores preços. Percebendo o trabalho que seria, tive a ideia de colocar em prática um assunto que chamou muito minha atenção, o Web Scraping, assim escolhi o site da <a href='https://www.decolar.com'>Decolar</a> para \"raspar\" os dados e obter as melhores promoções. A ideia é gerar um script onde com apenas um click eu consiga extrair os dados necessários para fazer uma boa análise.</p>"
   ]
  },
  {
   "cell_type": "markdown",
   "id": "6103edd7-3168-4657-8d0f-6a3ed6c62688",
   "metadata": {},
   "source": [
    "<center><img src='https://vemvoar.voeazul.com.br/wp-content/uploads/2018/08/as-10-rotas-de-aviao-mais-longas-do-mundo.jpeg' alt='Plane' width='450' height='100'></center>"
   ]
  },
  {
   "cell_type": "markdown",
   "id": "4030af89-800a-42d4-80f8-97514c88d717",
   "metadata": {},
   "source": [
    "------------------------------------------------------------------"
   ]
  },
  {
   "cell_type": "markdown",
   "id": "b954e802-8f7d-4004-b42d-0ae87f352a4e",
   "metadata": {},
   "source": [
    "## *Importando as bibliotecas:*"
   ]
  },
  {
   "cell_type": "code",
   "execution_count": 1,
   "id": "f6bf5db8-d8e8-4abd-b316-7518cb4cbe5d",
   "metadata": {},
   "outputs": [],
   "source": [
    "#BeautifulSoup\n",
    "from bs4 import BeautifulSoup\n",
    "\n",
    "#Selenium\n",
    "from time import sleep\n",
    "from selenium import webdriver\n",
    "from selenium.webdriver.chrome.options import Options\n",
    "from selenium.webdriver.common.by import By\n",
    "from selenium.webdriver.support.ui import WebDriverWait\n",
    "from selenium.webdriver.support import expected_conditions as EC\n",
    "from selenium.webdriver.chromium import service\n",
    "from selenium.webdriver import ActionChains\n",
    "from selenium.webdriver.common.keys import Keys\n",
    "\n",
    "\n",
    "#Pandas\n",
    "import pandas as pd"
   ]
  },
  {
   "cell_type": "markdown",
   "id": "92cf934a-21e6-41c8-ae01-4307c2d4d3dd",
   "metadata": {},
   "source": [
    "------------------------------------------------------------------"
   ]
  },
  {
   "cell_type": "markdown",
   "id": "3b1db421-a9ed-4097-9a01-96c7f441b2ef",
   "metadata": {},
   "source": [
    "### Utilizando o Selenium:"
   ]
  },
  {
   "cell_type": "markdown",
   "id": "7703e01b-dcf9-49d3-a115-d08d0c55fbc5",
   "metadata": {},
   "source": [
    "<p>Algumas páginas são renderizadas via <code>Javascrip</code> que é carregado dinamicamente, por isso utilizamos a biblioteca Selenium para contornar esse problema.</p>"
   ]
  },
  {
   "cell_type": "code",
   "execution_count": 4,
   "id": "3e79c78d-49ca-4218-b233-c04133f08c39",
   "metadata": {},
   "outputs": [
    {
     "name": "stderr",
     "output_type": "stream",
     "text": [
      "<timed exec>:14: DeprecationWarning: find_element_by_css_selector is deprecated. Please use find_element(by=By.CSS_SELECTOR, value=css_selector) instead\n",
      "<timed exec>:18: DeprecationWarning: find_element_by_css_selector is deprecated. Please use find_element(by=By.CSS_SELECTOR, value=css_selector) instead\n"
     ]
    },
    {
     "name": "stdout",
     "output_type": "stream",
     "text": [
      "CPU times: user 1.51 s, sys: 32.4 ms, total: 1.54 s\n",
      "Wall time: 23.5 s\n"
     ]
    }
   ],
   "source": [
    "%%time\n",
    "\n",
    "#Faz com que o navegador não abra toda vez que o código for executado\n",
    "options = Options()\n",
    "options.add_argument('--headless')\n",
    "\n",
    "\n",
    "#Acessando a página\n",
    "url = 'https://www.decolar.com/passagens-aereas/SAO/BUE?from=SB&di=1-0'\n",
    "navegador = webdriver.Chrome(options=options)\n",
    "navegador.get(url)\n",
    "sleep(2)\n",
    "\n",
    "#Percorrendo a página\n",
    "body = navegador.find_element_by_css_selector('body')\n",
    "body.send_keys(Keys.END)\n",
    "\n",
    "for i in range(0,12):\n",
    "    body = navegador.find_element_by_css_selector('body')\n",
    "    body.send_keys(Keys.END)\n",
    "    sleep(0.5)\n",
    "    WebDriverWait(navegador, 20).until(EC.element_to_be_clickable((By.XPATH, '//*[@id=\"clusters\"]/div/a/em'))).click()\n",
    "\n",
    "sleep(2)\n",
    "\n",
    "#Coletando todos os dados da página\n",
    "soup = BeautifulSoup(navegador.page_source, 'html.parser')"
   ]
  },
  {
   "cell_type": "markdown",
   "id": "ca37ee04-88a6-45d7-bd30-867b4658e64e",
   "metadata": {},
   "source": [
    "### Obtendo as informações:"
   ]
  },
  {
   "cell_type": "code",
   "execution_count": 5,
   "id": "7de6161d-f20e-4f84-98b9-d31b2b599c7a",
   "metadata": {},
   "outputs": [
    {
     "data": {
      "text/plain": [
       "(150, 6)"
      ]
     },
     "execution_count": 5,
     "metadata": {},
     "output_type": "execute_result"
    }
   ],
   "source": [
    "#Achando a div que contém todos os voos\n",
    "voos = soup.findAll('div', {'class':'cluster-container border not-overflow'})\n",
    "cards = []\n",
    "\n",
    "for voo in voos:\n",
    "    \n",
    "    card = {}\n",
    "    \n",
    "    valor = voo.find('span', {'class':'pricebox-big-text price'}).get_text()\n",
    "    valor = float(valor) * 1000\n",
    "    card['Valor'] = valor\n",
    "    \n",
    "    #Obtendo o nome da Companhia Aérea\n",
    "    nome = voo.find('span', {'class':'name'}).get_text().strip()\n",
    "    card['Companhia Aérea'] = nome\n",
    "\n",
    "    #Horário do Voô\n",
    "    horario = voo.find('span', {'class':\"stops-text text -eva-3-tc-gray-2\"}).get_text()[:-1]\n",
    "    card['Horário de Voo'] = horario\n",
    "\n",
    "    #Dia da Semana Ida\n",
    "    dia_da_semana_ida = voo.find('div', {'class':'date -eva-3-bold route-info-item-date lowercase'}).get_text().strip()[:3]\n",
    "    card['Dia da Semana Ida'] = dia_da_semana_ida\n",
    "\n",
    "\n",
    "    #Dias de Viagem\n",
    "    dias = voo.find('span', {'class':'elipsis-days primary-message'}).get_text().strip().split()[0]\n",
    "    dias = int(dias)\n",
    "    card['Dias de Viagem'] = dias\n",
    "    \n",
    "    #Data IDA\n",
    "    data_ida = voo.find('div', {'class':'date -eva-3-bold route-info-item-date lowercase'}).get_text()[5:].replace('.','')\n",
    "    card['Data Ida'] = data_ida\n",
    "    \n",
    "    cards.append(card)\n",
    "\n",
    "#Criando o DataFrame com as informações\n",
    "teste = pd.DataFrame(cards)\n",
    "teste.shape"
   ]
  },
  {
   "cell_type": "code",
   "execution_count": 8,
   "id": "95ac2877",
   "metadata": {},
   "outputs": [
    {
     "data": {
      "text/html": [
       "<div>\n",
       "<style scoped>\n",
       "    .dataframe tbody tr th:only-of-type {\n",
       "        vertical-align: middle;\n",
       "    }\n",
       "\n",
       "    .dataframe tbody tr th {\n",
       "        vertical-align: top;\n",
       "    }\n",
       "\n",
       "    .dataframe thead th {\n",
       "        text-align: right;\n",
       "    }\n",
       "</style>\n",
       "<table border=\"1\" class=\"dataframe\">\n",
       "  <thead>\n",
       "    <tr style=\"text-align: right;\">\n",
       "      <th></th>\n",
       "      <th>Valor</th>\n",
       "      <th>Companhia Aérea</th>\n",
       "      <th>Horário de Voo</th>\n",
       "      <th>Dia da Semana Ida</th>\n",
       "      <th>Dias de Viagem</th>\n",
       "      <th>Data Ida</th>\n",
       "    </tr>\n",
       "  </thead>\n",
       "  <tbody>\n",
       "    <tr>\n",
       "      <th>51</th>\n",
       "      <td>1632.0</td>\n",
       "      <td>Ethiopian Airlines</td>\n",
       "      <td>17:30</td>\n",
       "      <td>Qua</td>\n",
       "      <td>7</td>\n",
       "      <td>8 Jun 2022</td>\n",
       "    </tr>\n",
       "    <tr>\n",
       "      <th>43</th>\n",
       "      <td>1616.0</td>\n",
       "      <td>Ethiopian Airlines</td>\n",
       "      <td>17:30</td>\n",
       "      <td>Seg</td>\n",
       "      <td>9</td>\n",
       "      <td>5 Set 2022</td>\n",
       "    </tr>\n",
       "    <tr>\n",
       "      <th>101</th>\n",
       "      <td>1684.0</td>\n",
       "      <td>British Airways</td>\n",
       "      <td>07:15</td>\n",
       "      <td>Dom</td>\n",
       "      <td>4</td>\n",
       "      <td>24 Jul 2022</td>\n",
       "    </tr>\n",
       "    <tr>\n",
       "      <th>85</th>\n",
       "      <td>1662.0</td>\n",
       "      <td>Ethiopian Airlines</td>\n",
       "      <td>17:00</td>\n",
       "      <td>Seg</td>\n",
       "      <td>7</td>\n",
       "      <td>13 Mar 2023</td>\n",
       "    </tr>\n",
       "    <tr>\n",
       "      <th>50</th>\n",
       "      <td>1632.0</td>\n",
       "      <td>Ethiopian Airlines</td>\n",
       "      <td>17:30</td>\n",
       "      <td>Seg</td>\n",
       "      <td>5</td>\n",
       "      <td>30 Mai 2022</td>\n",
       "    </tr>\n",
       "    <tr>\n",
       "      <th>90</th>\n",
       "      <td>1667.0</td>\n",
       "      <td>British Airways</td>\n",
       "      <td>07:15</td>\n",
       "      <td>Sáb</td>\n",
       "      <td>5</td>\n",
       "      <td>21 Mai 2022</td>\n",
       "    </tr>\n",
       "    <tr>\n",
       "      <th>28</th>\n",
       "      <td>1561.0</td>\n",
       "      <td>Ethiopian Airlines</td>\n",
       "      <td>17:00</td>\n",
       "      <td>Seg</td>\n",
       "      <td>7</td>\n",
       "      <td>28 Nov 2022</td>\n",
       "    </tr>\n",
       "    <tr>\n",
       "      <th>84</th>\n",
       "      <td>1662.0</td>\n",
       "      <td>Ethiopian Airlines</td>\n",
       "      <td>17:00</td>\n",
       "      <td>Seg</td>\n",
       "      <td>7</td>\n",
       "      <td>6 Mar 2023</td>\n",
       "    </tr>\n",
       "    <tr>\n",
       "      <th>31</th>\n",
       "      <td>1561.0</td>\n",
       "      <td>Ethiopian Airlines</td>\n",
       "      <td>17:00</td>\n",
       "      <td>Sáb</td>\n",
       "      <td>11</td>\n",
       "      <td>24 Dez 2022</td>\n",
       "    </tr>\n",
       "    <tr>\n",
       "      <th>136</th>\n",
       "      <td>1719.0</td>\n",
       "      <td>British Airways</td>\n",
       "      <td>07:15</td>\n",
       "      <td>Qua</td>\n",
       "      <td>6</td>\n",
       "      <td>18 Mai 2022</td>\n",
       "    </tr>\n",
       "  </tbody>\n",
       "</table>\n",
       "</div>"
      ],
      "text/plain": [
       "      Valor     Companhia Aérea Horário de Voo Dia da Semana Ida  \\\n",
       "51   1632.0  Ethiopian Airlines          17:30               Qua   \n",
       "43   1616.0  Ethiopian Airlines          17:30               Seg   \n",
       "101  1684.0     British Airways          07:15               Dom   \n",
       "85   1662.0  Ethiopian Airlines          17:00               Seg   \n",
       "50   1632.0  Ethiopian Airlines          17:30               Seg   \n",
       "90   1667.0     British Airways          07:15               Sáb   \n",
       "28   1561.0  Ethiopian Airlines          17:00               Seg   \n",
       "84   1662.0  Ethiopian Airlines          17:00               Seg   \n",
       "31   1561.0  Ethiopian Airlines          17:00               Sáb   \n",
       "136  1719.0     British Airways          07:15               Qua   \n",
       "\n",
       "     Dias de Viagem       Data Ida  \n",
       "51                7    8 Jun 2022   \n",
       "43                9    5 Set 2022   \n",
       "101               4   24 Jul 2022   \n",
       "85                7   13 Mar 2023   \n",
       "50                5   30 Mai 2022   \n",
       "90                5   21 Mai 2022   \n",
       "28                7   28 Nov 2022   \n",
       "84                7    6 Mar 2023   \n",
       "31               11   24 Dez 2022   \n",
       "136               6   18 Mai 2022   "
      ]
     },
     "execution_count": 8,
     "metadata": {},
     "output_type": "execute_result"
    }
   ],
   "source": [
    "teste.sample(10)"
   ]
  },
  {
   "cell_type": "code",
   "execution_count": 166,
   "id": "aec93af1-c68e-4732-b0ee-5e0425b8174c",
   "metadata": {},
   "outputs": [],
   "source": [
    "#Salvando o DataFrame em um arquivo CSV\n",
    "teste.to_csv('voos_testes.csv', index = False)"
   ]
  }
 ],
 "metadata": {
  "kernelspec": {
   "display_name": "Python 3 (ipykernel)",
   "language": "python",
   "name": "python3"
  },
  "language_info": {
   "codemirror_mode": {
    "name": "ipython",
    "version": 3
   },
   "file_extension": ".py",
   "mimetype": "text/x-python",
   "name": "python",
   "nbconvert_exporter": "python",
   "pygments_lexer": "ipython3",
   "version": "3.9.7"
  }
 },
 "nbformat": 4,
 "nbformat_minor": 5
}
